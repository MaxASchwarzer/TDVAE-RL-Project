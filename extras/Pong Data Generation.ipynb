{
 "cells": [
  {
   "cell_type": "code",
   "execution_count": 1,
   "metadata": {},
   "outputs": [],
   "source": [
    "import gym\n",
    "import numpy as np"
   ]
  },
  {
   "cell_type": "code",
   "execution_count": 10,
   "metadata": {},
   "outputs": [],
   "source": [
    "env = gym.make('Pong-v0')\n",
    "env.env.frameskip = 3"
   ]
  },
  {
   "cell_type": "code",
   "execution_count": 24,
   "metadata": {},
   "outputs": [],
   "source": [
    "def iteration(env, name):\n",
    "    env.reset()\n",
    "    done = False\n",
    "    frames = []\n",
    "    rewards = []\n",
    "    i=0\n",
    "    while not done:\n",
    "        action = np.random.randint(0, 6)\n",
    "        state, reward, done, _ = env.step(action)\n",
    "        rewards.append(reward)\n",
    "        frames.append(state)\n",
    "        i+=1\n",
    "        \n",
    "    frames = np.stack(frames, 0)\n",
    "    rewards = np.array(rewards)\n",
    "    np.savez_compressed(\"./traces/{}_trace\".format(name), frames=frames, rewards=rewards)\n",
    "    return i\n",
    "\n",
    "def generate_frames(env, num_frames):\n",
    "    frames = 0\n",
    "    i = 0\n",
    "    \n",
    "    while frames < num_frames:\n",
    "        frames += iteration(env, i)\n",
    "        i+=1\n",
    "        print(\"At iteration {}, {} frames generated\".format(i, frames))"
   ]
  },
  {
   "cell_type": "code",
   "execution_count": 25,
   "metadata": {},
   "outputs": [
    {
     "name": "stdout",
     "output_type": "stream",
     "text": [
      "At iteration 1, 1276 frames generated\n",
      "At iteration 2, 2412 frames generated\n",
      "At iteration 3, 3431 frames generated\n",
      "At iteration 4, 4826 frames generated\n",
      "At iteration 5, 6006 frames generated\n",
      "At iteration 6, 7106 frames generated\n",
      "At iteration 7, 8892 frames generated\n",
      "At iteration 8, 10079 frames generated\n",
      "At iteration 9, 11421 frames generated\n",
      "At iteration 10, 12604 frames generated\n",
      "At iteration 11, 13926 frames generated\n",
      "At iteration 12, 15147 frames generated\n",
      "At iteration 13, 16283 frames generated\n",
      "At iteration 14, 17753 frames generated\n",
      "At iteration 15, 18969 frames generated\n",
      "At iteration 16, 20290 frames generated\n",
      "At iteration 17, 21785 frames generated\n",
      "At iteration 18, 22960 frames generated\n",
      "At iteration 19, 23979 frames generated\n",
      "At iteration 20, 25287 frames generated\n",
      "At iteration 21, 26804 frames generated\n",
      "At iteration 22, 28112 frames generated\n",
      "At iteration 23, 29311 frames generated\n",
      "At iteration 24, 30330 frames generated\n",
      "At iteration 25, 31751 frames generated\n",
      "At iteration 26, 32850 frames generated\n",
      "At iteration 27, 33869 frames generated\n",
      "At iteration 28, 35196 frames generated\n",
      "At iteration 29, 36654 frames generated\n",
      "At iteration 30, 37873 frames generated\n",
      "At iteration 31, 39036 frames generated\n",
      "At iteration 32, 40055 frames generated\n",
      "At iteration 33, 41375 frames generated\n",
      "At iteration 34, 42474 frames generated\n",
      "At iteration 35, 43612 frames generated\n",
      "At iteration 36, 44941 frames generated\n",
      "At iteration 37, 46156 frames generated\n",
      "At iteration 38, 47225 frames generated\n",
      "At iteration 39, 48644 frames generated\n",
      "At iteration 40, 49885 frames generated\n",
      "At iteration 41, 51149 frames generated\n",
      "At iteration 42, 52365 frames generated\n",
      "At iteration 43, 53446 frames generated\n",
      "At iteration 44, 54687 frames generated\n",
      "At iteration 45, 56101 frames generated\n",
      "At iteration 46, 57144 frames generated\n",
      "At iteration 47, 58366 frames generated\n",
      "At iteration 48, 59545 frames generated\n",
      "At iteration 49, 60601 frames generated\n",
      "At iteration 50, 61620 frames generated\n",
      "At iteration 51, 62843 frames generated\n",
      "At iteration 52, 64115 frames generated\n",
      "At iteration 53, 65239 frames generated\n",
      "At iteration 54, 66864 frames generated\n",
      "At iteration 55, 68040 frames generated\n",
      "At iteration 56, 69211 frames generated\n",
      "At iteration 57, 70430 frames generated\n",
      "At iteration 58, 71532 frames generated\n",
      "At iteration 59, 72772 frames generated\n",
      "At iteration 60, 74191 frames generated\n",
      "At iteration 61, 75330 frames generated\n",
      "At iteration 62, 76510 frames generated\n",
      "At iteration 63, 77771 frames generated\n",
      "At iteration 64, 78999 frames generated\n",
      "At iteration 65, 80173 frames generated\n",
      "At iteration 66, 81460 frames generated\n",
      "At iteration 67, 82811 frames generated\n",
      "At iteration 68, 84051 frames generated\n",
      "At iteration 69, 85256 frames generated\n",
      "At iteration 70, 86458 frames generated\n",
      "At iteration 71, 87640 frames generated\n",
      "At iteration 72, 88891 frames generated\n",
      "At iteration 73, 90163 frames generated\n",
      "At iteration 74, 91582 frames generated\n",
      "At iteration 75, 92761 frames generated\n",
      "At iteration 76, 93943 frames generated\n",
      "At iteration 77, 95079 frames generated\n",
      "At iteration 78, 96175 frames generated\n",
      "At iteration 79, 97231 frames generated\n",
      "At iteration 80, 98404 frames generated\n",
      "At iteration 81, 99527 frames generated\n",
      "At iteration 82, 100546 frames generated\n"
     ]
    }
   ],
   "source": [
    "generate_frames(env, 100000)"
   ]
  },
  {
   "cell_type": "code",
   "execution_count": 26,
   "metadata": {},
   "outputs": [],
   "source": [
    "data = np.load(\"./traces/5_trace.npz\")"
   ]
  },
  {
   "cell_type": "code",
   "execution_count": 33,
   "metadata": {},
   "outputs": [],
   "source": [
    "for i in range(81):\n",
    "    data = np.load(\"./traces/{}_trace.npz\".format(i))"
   ]
  }
 ],
 "metadata": {
  "kernelspec": {
   "display_name": "Python 3",
   "language": "python",
   "name": "python3"
  },
  "language_info": {
   "codemirror_mode": {
    "name": "ipython",
    "version": 3
   },
   "file_extension": ".py",
   "mimetype": "text/x-python",
   "name": "python",
   "nbconvert_exporter": "python",
   "pygments_lexer": "ipython3",
   "version": "3.5.2"
  }
 },
 "nbformat": 4,
 "nbformat_minor": 2
}
